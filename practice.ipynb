{
 "cells": [
  {
   "cell_type": "code",
   "execution_count": null,
   "id": "4fc88aa9",
   "metadata": {},
   "outputs": [],
   "source": [
    "from practice import *"
   ]
  },
  {
   "cell_type": "code",
   "execution_count": null,
   "id": "ad3d3c56",
   "metadata": {},
   "outputs": [],
   "source": [
    "c = show_category(session)\n",
    "questions = get_questions(session,category=c)\n",
    "auto_practice(questions=questions)"
   ]
  },
  {
   "cell_type": "code",
   "execution_count": null,
   "id": "545e9524",
   "metadata": {},
   "outputs": [],
   "source": []
  }
 ],
 "metadata": {
  "kernelspec": {
   "display_name": "Python 3.10.7 64-bit",
   "language": "python",
   "name": "python3"
  },
  "language_info": {
   "codemirror_mode": {
    "name": "ipython",
    "version": 3
   },
   "file_extension": ".py",
   "mimetype": "text/x-python",
   "name": "python",
   "nbconvert_exporter": "python",
   "pygments_lexer": "ipython3",
   "version": "3.10.7"
  },
  "vscode": {
   "interpreter": {
    "hash": "949777d72b0d2535278d3dc13498b2535136f6dfe0678499012e853ee9abcab1"
   }
  }
 },
 "nbformat": 4,
 "nbformat_minor": 5
}
